{
 "cells": [
  {
   "cell_type": "code",
   "execution_count": null,
   "metadata": {
    "collapsed": true
   },
   "outputs": [],
   "source": [
    "import theano\n",
    "from theano import tensor as T\n",
    "import numpy as np\n",
    "import matplotlib.pyplot as plt\n",
    "from load import mnist\n",
    "\n",
    "def floatX(X):\n",
    "    return np.asarray(X, dtype=theano.config.floatX)\n",
    "\n",
    "def init_weights(shape):\n",
    "    return theano.shared(floatX(np.random.randn(*shape) * .001))\n",
    "\n",
    "def model(X,w):\n",
    "    return T.nnet.argmax(T.dot(X,w))\n",
    "\n",
    "trX, trY, teX, teY = mnist(onehot=True)\n",
    "X = T.fmatrix()\n",
    "Y = T.fmatrix()\n",
    "\n",
    "w = init_weights((784, 10))\n",
    "\n",
    "py_x = model(X, w)\n",
    "y_pred = T.argmax(py_x, axis = 1)\n",
    "\n",
    "cost = T.mean(T.nnet.categorical.crossentropy(py_x, Y))\n",
    "gradient = T.grad(cost = cost, wrt = w)\n",
    "updates = [[w, w - gradient * 0.05]]\n",
    "\n",
    "train = theano.function(inputs=[X, Y], outputs = cost, updates = updates, allow_input_downcast = True)\n",
    "predict = theano.function(inputs=[X], output = y_pred, allow_input_downcast = True)\n",
    "\n",
    "for i in range (100):\n",
    "    for start, end in zip(range(0, len(trX), 128), range(0, len(trX), 128)):\n",
    "        cost = train(trX[start:end], trY[start:end])\n",
    "    print i, np.mean(np.argmax(teY, axis=1) == predict(teX))"
   ]
  }
 ],
 "metadata": {
  "kernelspec": {
   "display_name": "Python 2",
   "language": "python",
   "name": "python2"
  },
  "language_info": {
   "codemirror_mode": {
    "name": "ipython",
    "version": 2
   },
   "file_extension": ".py",
   "mimetype": "text/x-python",
   "name": "python",
   "nbconvert_exporter": "python",
   "pygments_lexer": "ipython2",
   "version": "2.7.10"
  }
 },
 "nbformat": 4,
 "nbformat_minor": 0
}
